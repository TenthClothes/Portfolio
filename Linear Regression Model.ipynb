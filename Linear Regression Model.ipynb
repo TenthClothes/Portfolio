{
 "cells": [
  {
   "cell_type": "code",
   "execution_count": 26,
   "id": "e1469d4c",
   "metadata": {},
   "outputs": [],
   "source": [
    "import pandas as pd\n",
    "import numpy as np\n",
    "from matplotlib import pyplot as plt"
   ]
  },
  {
   "cell_type": "code",
   "execution_count": 27,
   "id": "73c5cac1",
   "metadata": {
    "scrolled": true
   },
   "outputs": [
    {
     "name": "stdout",
     "output_type": "stream",
     "text": [
      "[0.714503, 0.906259, 0.102746, 0.610289, 0.094999, 0.807277, 0.185775, 0.99952, 0.789463, 0.675383]\n",
      "[0.00859, 0.199344, 0.601644, 0.976527, 0.453188, 0.801732, 0.548989, 0.056656, 0.484406, 0.561614]\n"
     ]
    }
   ],
   "source": [
    "coor = np.random.rand(10,2)\n",
    "x = []\n",
    "y = []\n",
    "for i in range(len(coor)):\n",
    "    x = x + ([round(coor[i][0],6)])\n",
    "    y = y + ([round(coor[i][1],6)])\n",
    "print(x)\n",
    "print(y)"
   ]
  },
  {
   "cell_type": "code",
   "execution_count": 28,
   "id": "12b97ebf",
   "metadata": {},
   "outputs": [],
   "source": [
    "#if weight increases then increases and loss<minloss\n",
    "#calculate diff in loss\n",
    "#if weight increases then increases but loss>minloss(not optimal loss)then go back to weight with most optimal loss and change direction\n",
    "\n",
    "def adjustWeight(minloss,prevSignW,signW,learningRateW,change,W):#calculate change in loss if weight adjusted\n",
    "    diff = 0\n",
    "    \n",
    "    while change:#Update W when change = True\n",
    "        W = W + signW*learningRateW \n",
    "        return minloss,prevSignW,signW,learningRateW,change,W,diff\n",
    "    \n",
    "    while diff == 0:#Calculate loss when loss < minLoss\n",
    "        loss = lossCalculation(x,y,W,B)\n",
    "        \n",
    "        if (prevSignW == signW) & (loss<minloss):\n",
    "            diff = abs(minloss-loss)\n",
    "            \n",
    "        elif (prevSignW == signW) & (minloss<loss): \n",
    "            W = W - signW*learningRateW #go back to most optimal weight\n",
    "            signW = -signW #flip sign\n",
    "            learningRateW = learningRateW * 0.95 #decrease magnitude of change\n",
    "            W = W + signW*learningRateW #calculate new weight\n",
    "            loss = lossCalculation(x,y,W,B) #calculate new loss \n",
    "            if loss<minloss:#if loss good keep sign\n",
    "                prevSignW = signW\n",
    "                \n",
    "    return minloss,prevSignW,signW,learningRateW,change,W,diff\n",
    "\n",
    "\n",
    "def adjustBias(minloss,prevSignB,signB,learningRateB,change,B):#calculate change in loss if bias adjusted\n",
    "    diff = 0\n",
    "    \n",
    "    while change:\n",
    "        B = B + signB*learningRateB\n",
    "        return minloss,prevSignB,signB,learningRateB,change,B,diff\n",
    "    \n",
    "    while diff == 0:\n",
    "        loss = lossCalculation(x,y,W,B)\n",
    "        \n",
    "        if (prevSignB == signB) & (loss<minloss):\n",
    "            diff = abs(minloss-loss)\n",
    "            \n",
    "        elif (prevSignB == signB) & (minloss<loss):\n",
    "            B = B - signB*learningRateB\n",
    "            signB = -signB\n",
    "            learningRateB = learningRateB * 0.95\n",
    "            B = B + signB*learningRateB\n",
    "            loss = lossCalculation(x,y,W,B)\n",
    "            if loss<minloss:\n",
    "                prevSignB = signB  \n",
    "                \n",
    "    return minloss,prevSignB,signB,learningRateB,change,B,diff\n",
    "\n",
    "    \n",
    "def compareDiff(minloss,signW,signB,prevSignW,prevSignB,learningRateW,learningRateB,W,B,loss):\n",
    "    minloss,prevSignB,signB,learningRateB,change,B,diffB = adjustBias(minloss,prevSignB,signB,learningRateB,False,B)\n",
    "    minloss,prevSignW,signW,learningRateW,change,W,diffW = adjustWeight(minloss,prevSignW,signW,learningRateW,False,W)\n",
    "    if diffB>diffW:\n",
    "        minloss = loss\n",
    "        minloss,prevSignB,signB,learningRateB,change,B,diffB = adjustBias(minloss,prevSignB,signB,learningRateB,True,B)\n",
    "        return minloss,prevSignW,signW,prevSignB,signB,learningRateW,learningRateB,W,B,loss\n",
    "    \n",
    "    elif diffW>diffB:\n",
    "        minloss = loss\n",
    "        minloss,prevSignW,signW,learningRateW,change,W,diffW = adjustWeight(minloss,prevSignW,signW,learningRateW,True,W)\n",
    "        return minloss,prevSignW,signW,prevSignB,signB,learningRateW,learningRateB,W,B,loss\n",
    "    \n",
    "    else:\n",
    "        minloss = loss\n",
    "        minloss,prevSignW,signW,learningRateW,change,W,diffW = adjustWeight(minloss,prevSignW,signW,learningRateW,True,W)\n",
    "        return minloss,prevSignW,signW,prevSignB,signB,learningRateW,learningRateB,W,B,loss\n"
   ]
  },
  {
   "cell_type": "code",
   "execution_count": 29,
   "id": "930b69d7",
   "metadata": {},
   "outputs": [
    {
     "name": "stdout",
     "output_type": "stream",
     "text": [
      "The equation of best fit line is Y = -0.29969X + 0.64578\n"
     ]
    }
   ],
   "source": [
    "minloss = 100000\n",
    "signW = 1\n",
    "prevSignW = 1\n",
    "signB = 1\n",
    "prevSignB = 1\n",
    "learningRateW = 1\n",
    "learningRateB = 1\n",
    "W = 1\n",
    "B = 1\n",
    "loss = lossCalculation(x,y,W,B)\n",
    "while (abs(minloss - loss) > 0.00000001):\n",
    "    minloss,prevSignW,signW,prevSignB,signB,learningRateW,learningRateB,W,B,loss = compareDiff(minloss,signW,signB,prevSignW,prevSignB,learningRateW,learningRateB,W,B,loss)\n",
    "    loss = lossCalculation(x,y,W,B)\n",
    "print('The equation of best fit line is Y = '+str(round(W,5))+'X + '+str(round(B,5)))"
   ]
  },
  {
   "cell_type": "code",
   "execution_count": 30,
   "id": "96b7f506",
   "metadata": {},
   "outputs": [
    {
     "data": {
      "text/plain": [
       "Text(0, 0.5, 'Y')"
      ]
     },
     "execution_count": 30,
     "metadata": {},
     "output_type": "execute_result"
    },
    {
     "data": {
      "image/png": "[encoded data removed]",
      "text/plain": [
       "<Figure size 640x480 with 1 Axes>"
      ]
     },
     "metadata": {},
     "output_type": "display_data"
    }
   ],
   "source": [
    "##Graphing Line\n",
    "plt.scatter(x,y)\n",
    "p = np.arange(0,2)\n",
    "p1 = W*p + B\n",
    "plt.plot(p,p1)\n",
    "\n",
    "plt.xlabel('X')\n",
    "plt.ylabel('Y')\n"
   ]
  },
  {
   "cell_type": "code",
   "execution_count": null,
   "id": "5c47ae65",
   "metadata": {},
   "outputs": [],
   "source": []
  }
 ],
 "metadata": {
  "kernelspec": {
   "display_name": "Python 3 (ipykernel)",
   "language": "python",
   "name": "python3"
  },
  "language_info": {
   "codemirror_mode": {
    "name": "ipython",
    "version": 3
   },
   "file_extension": ".py",
   "mimetype": "text/x-python",
   "name": "python",
   "nbconvert_exporter": "python",
   "pygments_lexer": "ipython3",
   "version": "3.8.10"
  }
 },
 "nbformat": 4,
 "nbformat_minor": 5
}
